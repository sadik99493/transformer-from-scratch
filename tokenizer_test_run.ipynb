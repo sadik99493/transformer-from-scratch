{
 "cells": [
  {
   "cell_type": "code",
   "execution_count": 11,
   "metadata": {},
   "outputs": [],
   "source": [
    "#####################  TEST RUN  ###################\n",
    "from datasets import load_dataset\n",
    "from config import details\n",
    "\n",
    "#----------IMPORT get_tokenizer from tokenizer.py---------#\n",
    "from tokenizer import get_tokenizer\n"
   ]
  },
  {
   "cell_type": "code",
   "execution_count": 12,
   "metadata": {},
   "outputs": [],
   "source": [
    "#-----------GET YOUR DATASET-----------#\n",
    "data = load_dataset('opus_books','en-fi',split='train')\n"
   ]
  },
  {
   "cell_type": "code",
   "execution_count": 13,
   "metadata": {},
   "outputs": [],
   "source": [
    "#-----------BUILD THE TOKENIZER--------#\n",
    "config = details()\n",
    "english_tokenizer = get_tokenizer(config,data,'en')\n"
   ]
  },
  {
   "cell_type": "code",
   "execution_count": 14,
   "metadata": {},
   "outputs": [
    {
     "name": "stdout",
     "output_type": "stream",
     "text": [
      "encoded: [145, 58, 18, 432, 88]\n",
      "decoded back: how are you doing ?\n"
     ]
    }
   ],
   "source": [
    "\n",
    "#-----------TESTING THE TOKENIZER------#\n",
    "encoded  = english_tokenizer.encode(\"how are you doing?\")\n",
    "print(\"encoded:\",encoded.ids)   #--->converts tokens to ids\n",
    "decoded = english_tokenizer.decode(encoded.ids)\n",
    "print(\"decoded back:\",decoded) #-->converts ids back into tokens"
   ]
  }
 ],
 "metadata": {
  "kernelspec": {
   "display_name": "env",
   "language": "python",
   "name": "python3"
  },
  "language_info": {
   "codemirror_mode": {
    "name": "ipython",
    "version": 3
   },
   "file_extension": ".py",
   "mimetype": "text/x-python",
   "name": "python",
   "nbconvert_exporter": "python",
   "pygments_lexer": "ipython3",
   "version": "3.10.9"
  }
 },
 "nbformat": 4,
 "nbformat_minor": 2
}
